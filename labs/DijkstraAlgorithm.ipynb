{
 "cells": [
  {
   "cell_type": "markdown",
   "metadata": {},
   "source": [
    "# Реализация алгоритма Дейкстры на произвольном графе\n",
    "\n",
    "## Графы\n",
    "\n",
    " __Граф__ — это абстрактное представление множества объектов и связей между ними.\n",
    " \n",
    " Графом называют пару $(V, E)$ где $V$ это множество вершин, а $E$ множество пар, каждая из которых представляет собой связь (эти пары называют рёбрами).\n",
    " \n",
    "\n",
    "Граф может быть ориентированным или неориентированным. В ориентированном графе, связи являются направленными (то есть пары в $E$ являются упорядоченными, например пары $(a, b)$ и $(b, a)$ это две разные связи). В свою очередь в неориентированном графе, связи ненаправленные, и поэтому если существует связь $(a, b)$ то значит что существует связь $(b, a)$. \n",
    "\n",
    "### Способы представления графов \n",
    "\n",
    "2. __Матрицы смежности__ (удобный способ представления __плотных (неразреженных)__ графов); ![matrix](http://kvodo.ru/wp-content/uploads/matrix_smeghnost.jpg)\n",
    "\n",
    "1. __Списки смежности__ и в виде матрицы смежности (удобный способ представления __разреженных__ графов). \n",
    "\n",
    "|<img src=\"https://koenig-media.raywenderlich.com/uploads/2017/01/graph4.png\" width=\"400\"> | <img src=\"https://koenig-media.raywenderlich.com/uploads/2017/01/graph5.png\" width=\"400\">  |\n",
    "|:---:|:---:|\n",
    "| Неориентированный граф | Список смежности неориентированного графа|\n",
    "\n",
    "_Оба способа подходят для представления ориентированных и неориентированных графов._\n",
    "\n",
    "#### Реализация графа, задаваемого списком смежности "
   ]
  },
  {
   "cell_type": "code",
   "execution_count": 33,
   "metadata": {},
   "outputs": [],
   "source": [
    "from collections import defaultdict\n",
    "\n",
    "class Graph:\n",
    "    \"\"\"\n",
    "    Graph class represents a graph using adjacency list representation\n",
    "    \"\"\"\n",
    "    def __init__(self, directed=False):\n",
    "        self.graph = defaultdict(list)\n",
    "        self.verticies = 0\n",
    "        self.directed = directed\n",
    "        \n",
    "    def length(self):\n",
    "        return self.verticies\n",
    "    \n",
    "    def getEdges(self, u):\n",
    "        return self.graph[u]\n",
    " \n",
    "    def addEdge(self, u, v):\n",
    "        self.verticies = max(self.verticies, u + 1, v + 1)\n",
    "        self.graph[u].append(v)\n",
    "        if not self.directed:\n",
    "            self.graph[v].append(u)"
   ]
  },
  {
   "cell_type": "markdown",
   "metadata": {},
   "source": [
    "Построим какой-нибудь очень простой граф, например граф с первого рисунка."
   ]
  },
  {
   "cell_type": "code",
   "execution_count": 34,
   "metadata": {},
   "outputs": [],
   "source": [
    "simple_graph = Graph(directed=True)\n",
    "simple_graph.addEdge(1, 2)\n",
    "simple_graph.addEdge(1, 4)\n",
    "simple_graph.addEdge(4, 1)\n",
    "simple_graph.addEdge(2, 4)\n",
    "simple_graph.addEdge(4, 3)\n",
    "simple_graph.addEdge(2, 3)\n",
    "simple_graph.addEdge(3, 2)"
   ]
  },
  {
   "cell_type": "code",
   "execution_count": 35,
   "metadata": {},
   "outputs": [
    {
     "data": {
      "text/plain": [
       "[2, 4]"
      ]
     },
     "execution_count": 35,
     "metadata": {},
     "output_type": "execute_result"
    }
   ],
   "source": [
    "simple_graph.graph[1]"
   ]
  },
  {
   "cell_type": "markdown",
   "metadata": {},
   "source": [
    "#### Рисовалка \n",
    "\n",
    "Ниже функция рисования графа. Не обязательно, но симпатично. "
   ]
  },
  {
   "cell_type": "code",
   "execution_count": 4,
   "metadata": {},
   "outputs": [],
   "source": [
    "from visualizer import draw_graph\n",
    "%matplotlib inline"
   ]
  },
  {
   "cell_type": "markdown",
   "metadata": {},
   "source": [
    "Нарисуем построенный нами ранее граф"
   ]
  },
  {
   "cell_type": "code",
   "execution_count": 5,
   "metadata": {},
   "outputs": [
    {
     "data": {
      "image/png": "[encoded data removed]",
      "text/plain": [
       "<matplotlib.figure.Figure at 0x108e6e438>"
      ]
     },
     "metadata": {},
     "output_type": "display_data"
    }
   ],
   "source": [
    "draw_graph(simple_graph, file_name='simple_graph')"
   ]
  },
  {
   "cell_type": "markdown",
   "metadata": {},
   "source": [
    "#  Алгоритм Дейкстры\n",
    "\n",
    "Алгоритм Дейстры используется для нахождения кратчайшего пути между вершинами в графе (между двумя заданными вершинами или пути от одной вершины до всех остальных). Данный алгоритм пошагово перебирает все вершины графа и назначает им метки, которые являются известным минимальным расстоянием от вершины источника до конкретной вершины.\n",
    "\n",
    "_Алгоритм Дейкстры предназначен для работы на графах с ребрами неотрицательного веса._\n",
    "\n",
    "### Инициализация\n",
    "\n",
    "Метка начальной вершины полагается равной 0, метки остальных вершин – недостижимо большое число (в идеале — бесконечность). Это отражает то, что расстояния от начальной вершины до других вершин пока неизвестны. Все вершины графа помечаются как непосещенные.\n",
    "\n",
    "## Описание алгоритма\n",
    "\n",
    "Если все вершины посещены, алгоритм завершается. \n",
    "\n",
    "В противном случае, начинается шаг алгоритма с того, что из ещё не посещённых вершин выбирается вершина $u$, имеющая минимальную метку ($g$-значение). Вершины, смежные с вершиной $u$, назовём соседями этой вершины. Для каждого соседа вершины $u$ рассмотрим новую длину пути, равную сумме текущего $g$-значения $u$ и длины ребра, соединяющего $u$ с этим соседом. Если полученное значение длины меньше $g$-значения соседа, заменим $g$-значение полученным значением длины. Рассмотрев всех соседей, переходим на следующий шаг алгоритма.\n",
    "\n",
    "[http://e-maxx.ru/algo/dijkstra](http://e-maxx.ru/algo/dijkstra)\n",
    "\n",
    "###  Реализация\n",
    "\n",
    "Для начала реализуем самый простой вариант алгоритма, будем считать что переход по всем ребрам стоит одинаково == 1 и нам не нужно сохранять пути до каждой из вершин.\n",
    "Результатом применения алгоритма является набор меток ($g$-значений) вершин графа.\n",
    "\n",
    "\n",
    "_Примечание: В данном случае вам предлагается хранения очереди -- sorted queue -- вершины, которые следует посетить._\n",
    "\n",
    "#### Задание 1 (2 балла)"
   ]
  },
  {
   "cell_type": "code",
   "execution_count": 77,
   "metadata": {},
   "outputs": [],
   "source": [
    "import math\n",
    "\n",
    "def Dijkstra(G, start):\n",
    "    # initialization\n",
    "    sorted_queue = \n",
    "    g_values = \n",
    "    while len(sorted_queue) > 0:\n",
    "        current = # get element from queue (that should have minimal g_value)\n",
    "        # for each neighbor check if g_value is less\n",
    "        # And if so change g_value and add neighbor to queue (remember that you should know where minimum is)\n",
    "        \n",
    "    return g_values "
   ]
  },
  {
   "cell_type": "markdown",
   "metadata": {},
   "source": [
    "Проверим вашу реализацию"
   ]
  },
  {
   "cell_type": "code",
   "execution_count": 78,
   "metadata": {},
   "outputs": [],
   "source": [
    "G = Graph(True)\n",
    "G.addEdge(1, 2)\n",
    "G.addEdge(1, 3)\n",
    "G.addEdge(1, 6)\n",
    "G.addEdge(6, 5)\n",
    "G.addEdge(6, 3)\n",
    "G.addEdge(3, 2)\n",
    "G.addEdge(2, 4)\n",
    "G.addEdge(4, 5)"
   ]
  },
  {
   "cell_type": "code",
   "execution_count": 80,
   "metadata": {},
   "outputs": [
    {
     "name": "stdout",
     "output_type": "stream",
     "text": [
      "Looks OK!\n"
     ]
    }
   ],
   "source": [
    "pathlengths = Dijkstra(G, 1)\n",
    "assert (pathlengths[1] == 0),\"Don't forget the initialization\"\n",
    "assert (pathlengths[2] == pathlengths[3]),\"Found path is not the shortest\"\n",
    "assert (pathlengths[5] == 2), \"Found path is not the shortest\"\n",
    "pathlengths = Dijkstra(simple_graph, 1)\n",
    "assert (pathlengths[2] == 1 and pathlengths[4] == 1 and pathlengths[3] == 2),\"Found path is not the shortest\"\n",
    "print(\"Looks OK!\")"
   ]
  },
  {
   "cell_type": "markdown",
   "metadata": {},
   "source": [
    "При желании можно нарисовать граф."
   ]
  },
  {
   "cell_type": "code",
   "execution_count": 79,
   "metadata": {},
   "outputs": [
    {
     "data": {
      "image/png": "[encoded data removed]",
      "text/plain": [
       "<matplotlib.figure.Figure at 0x10a61f550>"
      ]
     },
     "metadata": {},
     "output_type": "display_data"
    }
   ],
   "source": [
    "draw_graph(G, file_name='G')"
   ]
  },
  {
   "cell_type": "markdown",
   "metadata": {},
   "source": [
    "Рассмотрим еще один пример. В качестве графа в этот раз возьмем бинарное дерево."
   ]
  },
  {
   "cell_type": "code",
   "execution_count": 81,
   "metadata": {},
   "outputs": [
    {
     "data": {
      "image/png": "[encoded data removed]",
      "text/plain": [
       "<matplotlib.figure.Figure at 0x10c9453c8>"
      ]
     },
     "metadata": {},
     "output_type": "display_data"
    }
   ],
   "source": [
    "tree = Graph(True)\n",
    "tree.addEdge(1, 2)\n",
    "tree.addEdge(1, 3)\n",
    "tree.addEdge(3, 7)\n",
    "tree.addEdge(3, 8)\n",
    "tree.addEdge(2, 4)\n",
    "tree.addEdge(2, 5)\n",
    "tree.addEdge(5, 6)\n",
    "tree.addEdge(8, 9)\n",
    "\n",
    "draw_graph(tree, file_name='tree')"
   ]
  },
  {
   "cell_type": "code",
   "execution_count": 82,
   "metadata": {},
   "outputs": [
    {
     "name": "stdout",
     "output_type": "stream",
     "text": [
      "Shortest path from vertex 1 to 1 equals 0\n",
      "Shortest path from vertex 1 to 2 equals 1\n",
      "Shortest path from vertex 1 to 3 equals 1\n",
      "Shortest path from vertex 1 to 4 equals 2\n",
      "Shortest path from vertex 1 to 5 equals 2\n",
      "Shortest path from vertex 1 to 6 equals 3\n",
      "Shortest path from vertex 1 to 7 equals 2\n",
      "Shortest path from vertex 1 to 8 equals 2\n",
      "Shortest path from vertex 1 to 9 equals 3\n"
     ]
    }
   ],
   "source": [
    "pathlengths = Dijkstra(tree, 1)\n",
    "for i in range(1, len(pathlengths)):\n",
    "    print('Shortest path from vertex 1 to', i, 'equals', pathlengths[i])"
   ]
  },
  {
   "cell_type": "markdown",
   "metadata": {},
   "source": [
    "## Поиск пути между двумя заданными вершинами\n",
    "\n",
    "Теперь когда мы знаем расстояния до всех вершин в графе можно решать задачу поиска кратчайшего пути между двумя заданными вершинами.\n",
    "\n",
    "Для начала разберем алгоритм __обратного восстановления__ пути по имеющимся $g$-значениям.\n",
    "\n",
    "### Описание алгоритма\n",
    "\n",
    "Итак, алгоритм Дейкстры, запущенный из начальной вершины, отработал, мы получили $g$-значения для каждой вершины нашего графа. Предположим теперь, что нам необходимо найти кратчайший путь из начальной вершины в известную нам вершину $v$.  Алгоритм обратного восстановления похож на развернутый алгоритм Дейкстры.\n",
    "Для всех вершин $u$, смежных с вершиной $v$ проверим, совпадает ли $g$-значение вершины $u$ + 1 c $g$-значением вершины $v$, если совпадает, значит мы пришли в вершину $v$ из $u$, запоминаем переход и переходим на следующий шаг алгоритма.\n",
    "\n",
    "_На этапе поиска вершины-родителя может случится такое, что по $g$-значению нам подходит не одна, а несколько вершин. В данном случае пути содержащие различные вершины являются эквивалентными по длине и не имеет значения, какая вершина будет выбрана._\n",
    "\n",
    "__Важно:__ Такая постановка требует от нашего графа знания не только о выходящих ребрах, но и о входящих, поэтому при нашем способе хранения графа (в виде списка смежности) является не слишком удобным способом восстановления пути. Что делать в этом слуае мы рассмотрим позднее, а пока реализуем алгоритм __обратного восстановления__ для неориентированных графов.\n",
    "\n",
    "#### Задание 2 (1 балл)\n",
    "Реализуйте алгоритм обратного восстановления пути в графе."
   ]
  },
  {
   "cell_type": "code",
   "execution_count": 84,
   "metadata": {},
   "outputs": [],
   "source": [
    "def find_path(G, start, goal, g_values):\n",
    "    path = # build path\n",
    "    while #not start\n",
    "        # for each neighbor check if q_values are good\n",
    "        # add parent to path\n",
    "    return path # don't forget to reverse path"
   ]
  },
  {
   "cell_type": "code",
   "execution_count": 91,
   "metadata": {},
   "outputs": [
    {
     "name": "stdout",
     "output_type": "stream",
     "text": [
      "Looks OK!\n"
     ]
    }
   ],
   "source": [
    "G = Graph(False)\n",
    "G.addEdge(1, 2)\n",
    "G.addEdge(1, 3)\n",
    "G.addEdge(1, 6)\n",
    "G.addEdge(6, 5)\n",
    "G.addEdge(6, 3)\n",
    "G.addEdge(3, 2)\n",
    "G.addEdge(2, 4)\n",
    "G.addEdge(4, 5)\n",
    "pathlengths = Dijkstra(G, 1)\n",
    "path = find_path(G, 1, 5, pathlengths)\n",
    "assert (len(path) == 3), \"Path is too long\"\n",
    "assert (path[0] == 1 and pathlengths[path[0]] == 0), \"First element should be vertex start\"\n",
    "assert (path[-1] == 5), \"Last element should be vertex goal\"\n",
    "print(\"Looks OK!\")"
   ]
  },
  {
   "cell_type": "markdown",
   "metadata": {},
   "source": [
    "Посмотрим, что получилось.\n",
    "\n",
    "_Меняя вершину goal можно построить пути до всех вершин графа из вершины 1._"
   ]
  },
  {
   "cell_type": "code",
   "execution_count": 101,
   "metadata": {},
   "outputs": [
    {
     "name": "stdout",
     "output_type": "stream",
     "text": [
      "The shortest path from vertex 1 to vertex 4 : \n",
      "1 -> 2 -> 4\n"
     ]
    }
   ],
   "source": [
    "start, goal = 1, 4\n",
    "path = find_path(G, 1, goal, pathlengths)\n",
    "print('The shortest path from vertex', start, 'to vertex', goal, ': ')\n",
    "for u in path[:-1]:\n",
    "    print (u, end=' -> ')\n",
    "print(path[-1])"
   ]
  },
  {
   "cell_type": "markdown",
   "metadata": {},
   "source": [
    "### Заранее знаем целевую вершину -- экономим \n",
    "\n",
    "Пусть целевая вершина известна нам изначально и нам не нужно находить оптимальные $g$-значения для всех вершин. Это может значительно сократить время работы нашего алгоритма Дейкстры.\n",
    "\n",
    "Так как алгоритм Дейкстры гарантирует, что на каждом шаге все уже рассмотренные вершины имеют оптимальные $g$-значения, то нам достаточно просто прервать алгоритм, как только целевая вершина будет рассмотрена.\n",
    "\n",
    "#### Задание 3 (1 балл)\n",
    "Модифицируйте алгоритм Дейкстры так, чтобы он оптимально находил путь между двумя заданными вершинами."
   ]
  },
  {
   "cell_type": "code",
   "execution_count": 102,
   "metadata": {},
   "outputs": [],
   "source": [
    "#not same as previous Dijkstra\n",
    "def Dijkstra(G, start, goal):\n",
    "    # initialization\n",
    "    sorted_queue = \n",
    "    g_values = \n",
    "    while len(sorted_queue) > 0:\n",
    "        current = # get element from queue (that should have minimal g_value)\n",
    "        # for each neighbor check if g_value is less\n",
    "        # And if so change g_value and add neighbor to queue (remember that you should know where minimum is)\n",
    "        \n",
    "    return g_values "
   ]
  },
  {
   "cell_type": "code",
   "execution_count": 113,
   "metadata": {},
   "outputs": [
    {
     "name": "stdout",
     "output_type": "stream",
     "text": [
      "Looks OK!\n"
     ]
    }
   ],
   "source": [
    "pathlengths = Dijkstra(G, 1, 6)\n",
    "assert (pathlengths[1] == 0),\"Don't forget the initialization\"\n",
    "assert (pathlengths[2] == pathlengths[3] and pathlengths[3] == 1),\"Found path is not the shortest\"\n",
    "assert (pathlengths[5] == 3), \"Found path is not the shortest\"\n",
    "pathlengths = Dijkstra(G, 1, 2)\n",
    "assert (pathlengths[5] == math.inf and pathlengths[4] == math.inf),\"Uneffective. Try stopping earlier\"\n",
    "print(\"Looks OK!\")"
   ]
  },
  {
   "cell_type": "markdown",
   "metadata": {},
   "source": [
    "Вернемся к вопросу о восстановлении пути. Очевидно, что представленный выше способ не отличается эффективностью. Кроме того, оказывается трудно реализуем для ориентированных графов.\n",
    "\n",
    "Чтобы избежать таких трудностей предлагается сохранять указатель на родителя каждой вершины в графе. То есть, в процессе подсчета $g$-значений не только выбирать лучшее $g$-значение, но и запоминать из какой вершины оно было получено.\n",
    "\n",
    "####  <span style=\"color:red\">Бонусное задание 1 (1 балл)</span>\n",
    "Предлагается реализовать алгоритм Дейкстры, который бы запоминал оптимальные пути до вершин. А так же процедуру восстановления пути по сохраненным указателям."
   ]
  },
  {
   "cell_type": "code",
   "execution_count": 122,
   "metadata": {},
   "outputs": [],
   "source": [
    "# Бонус: Хранение обратных указателей\n",
    "\n",
    "def build_path(parents, goal):\n",
    "    path = \n",
    "    #YOUR CODE HERE\n",
    "    return path # don't forget to reverse path\n",
    "\n",
    "    #not same as previous Dijkstra\n",
    "def Dijkstra(G, start, goal):\n",
    "    # initialization\n",
    "    sorted_queue = \n",
    "    g_values = \n",
    "    parents = \n",
    "    while len(sorted_queue) > 0:\n",
    "        current = # get element from queue (that should have minimal g_value)\n",
    "        # for each neighbor check if g_value is less\n",
    "        # And if so change g_value and add neighbor to queue (remember that you should know where minimum is)\n",
    "        \n",
    "    return g_values, parents"
   ]
  },
  {
   "cell_type": "code",
   "execution_count": 124,
   "metadata": {},
   "outputs": [
    {
     "data": {
      "text/plain": [
       "[1, 2, 4, 5]"
      ]
     },
     "execution_count": 124,
     "metadata": {},
     "output_type": "execute_result"
    }
   ],
   "source": [
    "pathlengths, parents = Dijkstra(G, 1, 5)\n",
    "build_path(parents, 5)"
   ]
  },
  {
   "cell_type": "markdown",
   "metadata": {},
   "source": [
    "### Усложнения\n",
    "\n",
    "Чаще всего нам приходится сталкиваться со взвешенными графами - дороги (длина пути), покупки (стоимость приобретения), связи (\"условный\" показатель близости). Поэтому решать задачу нахождения кратчайшего пути на невзвешенном графе не слишком практично. Попробуем применить тот же алгоритм ко взвешенному графу.\n",
    "\n",
    "Есть несколько способов задать взвешенный граф:\n",
    "\n",
    "1. Определять ребра в списке смежности не только номером вершины, но и стоимостью перехода. То есть вместо списка вершин-соседей $u: [v_1, v_2, \\dots, v_n]$ хранить пары $u: [(v_1, w_1), (v_2, w_2) \\dots, (v_n, w_n)]$\n",
    "\n",
    "2. Заменить список смежности на матрицу смежности, где вместо 1 на местах пересечения связанных вершин хранить $w_{ij}$.\n",
    "\n",
    "3. Не изменяя существующих структур, добавить дополнительную матрицу/список, содержащий информацию о стоимостях.\n",
    "#### Задание 4 (2 балла)\n",
    "\n",
    "Используя (или не используя) приведенные ниже шаблоны, реализуйте один из способов задания взвешенного графа.\n",
    "\n",
    "__Шаблон варианта 1__"
   ]
  },
  {
   "cell_type": "code",
   "execution_count": 71,
   "metadata": {},
   "outputs": [],
   "source": [
    "class wGraph:\n",
    "    \"\"\"\n",
    "    weighted Graph class represents a graph using adjacency list representation\n",
    "    \"\"\"\n",
    "    def __init__(self, directed=False):\n",
    "        self.graph = defaultdict(list)\n",
    "        self.verticies = 0\n",
    "        self.directed = directed\n",
    "        \n",
    "    def length(self):\n",
    "        return self.verticies\n",
    "    \n",
    "    def getEdges(self, u):\n",
    "        return self.graph[u]\n",
    " \n",
    "    def addEdge(self, u, v, w):\n",
    "        self.verticies = max(self.verticies, u + 1, v + 1)\n",
    "        # now let's add not only v, but (v, w)\n",
    "        !YOUR CODE HERE\n",
    "        if not self.directed:\n",
    "           # now let's add not only u, but (u, w)\n",
    "           !YOUR CODE HERE"
   ]
  },
  {
   "cell_type": "markdown",
   "metadata": {},
   "source": [
    "__Шаблон варианта 2__"
   ]
  },
  {
   "cell_type": "code",
   "execution_count": 125,
   "metadata": {},
   "outputs": [],
   "source": [
    "class wGraph:\n",
    "    \"\"\"\n",
    "    weighted Graph class represents a graph using adjacency matrix representation\n",
    "    \"\"\"\n",
    "    def __init__(self, n, directed=False):\n",
    "        self.graph = [[0] * n] * n\n",
    "        self.verticies = n\n",
    "        self.directed = directed\n",
    "        \n",
    "    def length(self):\n",
    "        return self.verticies\n",
    "    \n",
    "    def getEdge(self, u, v):\n",
    "        return self.graph[u][v]\n",
    " \n",
    "    def addEdge(self, u, v, w):\n",
    "        # initialize matrix\n",
    "        !YOUR CODE HERE"
   ]
  },
  {
   "cell_type": "markdown",
   "metadata": {},
   "source": [
    "__Шаблон варианта 3__"
   ]
  },
  {
   "cell_type": "code",
   "execution_count": null,
   "metadata": {},
   "outputs": [],
   "source": [
    "!YOUR CODE HERE"
   ]
  },
  {
   "cell_type": "markdown",
   "metadata": {},
   "source": [
    "#### Задание 5 (4 балла)\n",
    "\n",
    "Реализуйте алгоритм Дейкстры для выбранного вами сценария и проверьте его на (как минимум) трех разных графах."
   ]
  },
  {
   "cell_type": "code",
   "execution_count": null,
   "metadata": {},
   "outputs": [],
   "source": [
    "def Dijkstra(wG, start, goal):\n",
    "    !YOUR CODE HERE"
   ]
  }
 ],
 "metadata": {
  "kernelspec": {
   "display_name": "Python 3",
   "language": "python",
   "name": "python3"
  },
  "language_info": {
   "codemirror_mode": {
    "name": "ipython",
    "version": 3
   },
   "file_extension": ".py",
   "mimetype": "text/x-python",
   "name": "python",
   "nbconvert_exporter": "python",
   "pygments_lexer": "ipython3",
   "version": "3.6.5"
  }
 },
 "nbformat": 4,
 "nbformat_minor": 2
}
