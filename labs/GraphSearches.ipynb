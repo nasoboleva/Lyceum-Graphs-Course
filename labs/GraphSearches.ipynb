{
 "cells": [
  {
   "cell_type": "markdown",
   "metadata": {},
   "source": [
    "# Реализация различных алгоритмов обхода вершин графа\n",
    "\n",
    "## Графы\n",
    "\n",
    " __Граф__ — это абстрактное представление множества объектов и связей между ними.\n",
    " \n",
    " Графом называют пару $(V, E)$ где $V$ это множество вершин, а $E$ множество пар, каждая из которых представляет собой связь (эти пары называют рёбрами).\n",
    " \n",
    "\n",
    "Граф может быть ориентированным или неориентированным. В ориентированном графе, связи являются направленными (то есть пары в $E$ являются упорядоченными, например пары $(a, b)$ и $(b, a)$ это две разные связи). В свою очередь в неориентированном графе, связи ненаправленные, и поэтому если существует связь $(a, b)$ то значит что существует связь $(b, a)$. \n",
    "\n",
    "### Способы представления графов \n",
    "\n",
    "2. __Матрицы смежности__ (удобный способ представления __плотных (неразреженных)__ графов); ![matrix](http://kvodo.ru/wp-content/uploads/matrix_smeghnost.jpg)\n",
    "\n",
    "1. __Списки смежности__ и в виде матрицы смежности (удобный способ представления __разреженных__ графов). \n",
    "\n",
    "|<img src=\"https://koenig-media.raywenderlich.com/uploads/2017/01/graph4.png\" width=\"400\"> | <img src=\"https://koenig-media.raywenderlich.com/uploads/2017/01/graph5.png\" width=\"400\">  |\n",
    "|:---:|:---:|\n",
    "| Неориентированный граф | Список смежности неориентированного графа|\n",
    "\n",
    "_Оба способа подходят для представления ориентированных и неориентированных графов._\n",
    "\n",
    "#### Реализация графа, задаваемого списком смежности "
   ]
  },
  {
   "cell_type": "code",
   "execution_count": 1,
   "metadata": {},
   "outputs": [],
   "source": [
    "from collections import defaultdict\n",
    "\n",
    "class Graph:\n",
    "    \"\"\"\n",
    "    Graph class represents a directed graph using adjacency list representation\n",
    "    \"\"\"\n",
    "    def __init__(self):\n",
    "        self.graph = defaultdict(list)\n",
    "        self.verticies = 0\n",
    "        \n",
    "    def length(self):\n",
    "        return self.verticies\n",
    "    \n",
    "    def getEdges(self, u):\n",
    "        return self.graph[u]\n",
    " \n",
    "    def addEdge(self, u, v):\n",
    "        self.verticies = max(self.verticies, u + 1, v + 1)\n",
    "        self.graph[u].append(v)"
   ]
  },
  {
   "cell_type": "markdown",
   "metadata": {},
   "source": [
    "Построим какой-нибудь очень простой граф, например граф с первого рисунка."
   ]
  },
  {
   "cell_type": "code",
   "execution_count": 2,
   "metadata": {},
   "outputs": [],
   "source": [
    "simple_graph = Graph()\n",
    "simple_graph.addEdge(1, 2)\n",
    "simple_graph.addEdge(1, 4)\n",
    "simple_graph.addEdge(4, 1)\n",
    "simple_graph.addEdge(2, 4)\n",
    "simple_graph.addEdge(4, 3)\n",
    "simple_graph.addEdge(2, 3)\n",
    "simple_graph.addEdge(3, 2)"
   ]
  },
  {
   "cell_type": "code",
   "execution_count": 3,
   "metadata": {},
   "outputs": [
    {
     "data": {
      "text/plain": [
       "[2]"
      ]
     },
     "execution_count": 3,
     "metadata": {},
     "output_type": "execute_result"
    }
   ],
   "source": [
    "simple_graph.graph[3]"
   ]
  },
  {
   "cell_type": "markdown",
   "metadata": {},
   "source": [
    "#### Рисовалка \n",
    "\n",
    "Ниже функция рисования графа. Не обязательно, но симпатично. "
   ]
  },
  {
   "cell_type": "code",
   "execution_count": 4,
   "metadata": {},
   "outputs": [],
   "source": [
    "from visualizer import draw_graph\n",
    "%matplotlib inline"
   ]
  },
  {
   "cell_type": "markdown",
   "metadata": {},
   "source": [
    "Нарисуем построенный нами ранее граф"
   ]
  },
  {
   "cell_type": "code",
   "execution_count": 5,
   "metadata": {},
   "outputs": [
    {
     "data": {
      "image/png": "[encoded data removed]",
      "text/plain": [
       "<matplotlib.figure.Figure at 0x111052f60>"
      ]
     },
     "metadata": {},
     "output_type": "display_data"
    }
   ],
   "source": [
    "draw_graph(simple_graph, file_name='simple_graph')"
   ]
  },
  {
   "cell_type": "markdown",
   "metadata": {},
   "source": [
    "##  Обход графа в ширину (BFS)\n",
    "\n",
    "__Обход в ширину__ (Поиск в ширину, англ. BFS, Breadth-first search) — один из простейших алгоритмов обхода графа, являющийся основой для многих важных алгоритмов для работы с графами.\n",
    "\n",
    "\n",
    "### Описание алгоритма\n",
    "Поиск в ширину работает путём последовательного просмотра отдельных уровней графа, начиная с узла-источника $u$.\n",
    "\n",
    "Рассмотрим все рёбра $(u,v)$, выходящие из узла $u$. Добавить узел $v$ в очередь. После того, как будут проверены все рёбра, выходящие из узла $u$, из очереди извлекается следующий узел $u$, и процесс повторяется.\n",
    "\n",
    "__или__\n",
    "\n",
    "1. Поместить узел, с которого начинается поиск, в изначально пустую очередь.\n",
    "2. Извлечь из начала очереди узел $u$ и пометить его как развёрнутый.\n",
    "3. В конец очереди добавляются все преемники узла $u$, которые ещё не развёрнуты и не находятся в очереди.\n",
    "4. Если очередь пуста, то все узлы связного графа были просмотрены; завершить обход.\n",
    "5. Вернуться к п. 2.\n",
    "\n",
    "_Примечание: деление вершин на развёрнутые и не развёрнутые необходимо для произвольного графа (так как в нём могут быть циклы). Для дерева эта операция не нужна, так как каждая вершина будет выбрана один-единственный раз._\n",
    "\n",
    "#### Нерекурсивная (итеративная) реализация"
   ]
  },
  {
   "cell_type": "code",
   "execution_count": 6,
   "metadata": {},
   "outputs": [],
   "source": [
    "def BFS(graph, start):\n",
    "    visited = [False] * graph.length()\n",
    "    queue = []\n",
    "    \n",
    "    !YOUR CODE HERE\n",
    "    # add start vertex to queue, mark as visited\n",
    "\n",
    "    assert (len(queue) == 1), 'Wrong size of the queue'\n",
    "    print (\"BFS order:\", end=' ')\n",
    "    while queue:\n",
    "        test_size = len(queue)\n",
    "        \n",
    "        # get top element from the queue\n",
    "        current = !YOUR CODE HERE\n",
    "        \n",
    "        print (current, end=' -> ')\n",
    "        assert (len(queue) == test_size - 1), 'Wrong size of the queue'\n",
    "        \n",
    "        !YOUR CODE HERE\n",
    "        # for each edge (current, u) check if u has been visited. If not add u to queue and mark as visited\n",
    "        \n",
    "    print('end')"
   ]
  },
  {
   "cell_type": "code",
   "execution_count": 7,
   "metadata": {},
   "outputs": [
    {
     "name": "stdout",
     "output_type": "stream",
     "text": [
      "/bin/sh: YOUR: command not found\r\n"
     ]
    },
    {
     "ename": "AssertionError",
     "evalue": "Wrong size of the queue",
     "output_type": "error",
     "traceback": [
      "\u001b[0;31m-------------------------------------------------------------------\u001b[0m",
      "\u001b[0;31mAssertionError\u001b[0m                    Traceback (most recent call last)",
      "\u001b[0;32m<ipython-input-7-82ea045540c8>\u001b[0m in \u001b[0;36m<module>\u001b[0;34m()\u001b[0m\n\u001b[0;32m----> 1\u001b[0;31m \u001b[0mBFS\u001b[0m\u001b[0;34m(\u001b[0m\u001b[0msimple_graph\u001b[0m\u001b[0;34m,\u001b[0m \u001b[0;36m1\u001b[0m\u001b[0;34m)\u001b[0m\u001b[0;34m\u001b[0m\u001b[0m\n\u001b[0m",
      "\u001b[0;32m<ipython-input-6-a755db22f014>\u001b[0m in \u001b[0;36mBFS\u001b[0;34m(graph, start)\u001b[0m\n\u001b[1;32m      6\u001b[0m     \u001b[0;31m# add start vertex to queue, mark as visited\u001b[0m\u001b[0;34m\u001b[0m\u001b[0;34m\u001b[0m\u001b[0m\n\u001b[1;32m      7\u001b[0m \u001b[0;34m\u001b[0m\u001b[0m\n\u001b[0;32m----> 8\u001b[0;31m     \u001b[0;32massert\u001b[0m \u001b[0;34m(\u001b[0m\u001b[0mlen\u001b[0m\u001b[0;34m(\u001b[0m\u001b[0mqueue\u001b[0m\u001b[0;34m)\u001b[0m \u001b[0;34m==\u001b[0m \u001b[0;36m1\u001b[0m\u001b[0;34m)\u001b[0m\u001b[0;34m,\u001b[0m \u001b[0;34m'Wrong size of the queue'\u001b[0m\u001b[0;34m\u001b[0m\u001b[0m\n\u001b[0m\u001b[1;32m      9\u001b[0m     \u001b[0mprint\u001b[0m \u001b[0;34m(\u001b[0m\u001b[0;34m\"BFS order:\"\u001b[0m\u001b[0;34m,\u001b[0m \u001b[0mend\u001b[0m\u001b[0;34m=\u001b[0m\u001b[0;34m' '\u001b[0m\u001b[0;34m)\u001b[0m\u001b[0;34m\u001b[0m\u001b[0m\n\u001b[1;32m     10\u001b[0m     \u001b[0;32mwhile\u001b[0m \u001b[0mqueue\u001b[0m\u001b[0;34m:\u001b[0m\u001b[0;34m\u001b[0m\u001b[0m\n",
      "\u001b[0;31mAssertionError\u001b[0m: Wrong size of the queue"
     ]
    }
   ],
   "source": [
    "BFS(simple_graph, 1)"
   ]
  },
  {
   "cell_type": "markdown",
   "metadata": {},
   "source": [
    "Нарисуем еще один граф."
   ]
  },
  {
   "cell_type": "code",
   "execution_count": null,
   "metadata": {},
   "outputs": [],
   "source": [
    "tree = Graph()\n",
    "tree.addEdge(1, 2)\n",
    "tree.addEdge(1, 3)\n",
    "tree.addEdge(3, 7)\n",
    "tree.addEdge(3, 8)\n",
    "tree.addEdge(2, 4)\n",
    "tree.addEdge(2, 5)\n",
    "tree.addEdge(5, 6)\n",
    "tree.addEdge(8, 9)\n",
    "\n",
    "draw_graph(tree, file_name='tree')"
   ]
  },
  {
   "cell_type": "code",
   "execution_count": null,
   "metadata": {},
   "outputs": [],
   "source": [
    "print (tree.graph[8])"
   ]
  },
  {
   "cell_type": "code",
   "execution_count": null,
   "metadata": {},
   "outputs": [],
   "source": [
    "BFS(tree, 1)"
   ]
  },
  {
   "cell_type": "markdown",
   "metadata": {},
   "source": [
    "### Применение\n",
    "\n",
    "Алгоритм __BFS__ позволяет найти кратчайший (содержащий наименьшее число ребер) путь из одной вершины графа до всех остальных вершин. Чаще всего применяется при поиске кратчайшего пути от одной вешины до другой. Пример ->\n",
    "\n",
    "<img src=\"https://cdn-images-1.medium.com/max/1600/1*GChPGXvZQiVwjok9EvKPIA.gif\" width=\"650\"> \n",
    "\n",
    "При такой постановке задачи, алгоритм требует некоторой доработки, а именно:\n",
    "\n",
    "1. выход из алгоритма при достижении целевой вершины,\n",
    "2. сохранение построенного пути."
   ]
  },
  {
   "cell_type": "code",
   "execution_count": null,
   "metadata": {},
   "outputs": [],
   "source": [
    "def BFS(graph, start, goal=None):\n",
    "    visited = [False] * graph.length()\n",
    "    parents = [None] * graph.length()\n",
    "    queue = []\n",
    "    \n",
    "    !YOUR CODE HERE\n",
    "    # copy your BFS code and add goal check and parent memorization\n",
    "    \n",
    "    path = build_path(goal, parents)\n",
    "    return path\n",
    "    \n",
    "def build_path(parents, goal):\n",
    "    path = [goal]\n",
    "    parent = parents[goal]\n",
    "    while parent is not None:\n",
    "        path.append(parent)\n",
    "        parent = parents[parent]\n",
    "    return path[::-1]"
   ]
  },
  {
   "cell_type": "code",
   "execution_count": null,
   "metadata": {},
   "outputs": [],
   "source": [
    "path = BFS(tree, 1, 9)\n",
    "print('The shortest path from 1 to 9 is:', ('-').join(map(str, path)))"
   ]
  },
  {
   "cell_type": "markdown",
   "metadata": {},
   "source": [
    "##  Обход графа в глубину (DFS)\n",
    "\n",
    "__Поиск в глубину__ (англ. Depth-first search, DFS) — один из методов обхода графа. Стратегия поиска в глубину, как и следует из названия, состоит в том, чтобы идти «вглубь» графа, насколько это возможно. \n",
    "\n",
    "\n",
    "### Описание алгоритма\n",
    "Алгоритм поиска описывается рекурсивно: перебираем все исходящие из рассматриваемой вершины рёбра. Если ребро ведёт в вершину, которая не была рассмотрена ранее, то запускаем алгоритм от этой нерассмотренной вершины, а после возвращаемся и продолжаем перебирать рёбра. Возврат происходит в том случае, если в рассматриваемой вершине не осталось рёбер, которые ведут в нерассмотренную вершину. Если после завершения алгоритма не все вершины были рассмотрены, то необходимо запустить алгоритм от одной из нерассмотренных вершин.\n",
    "\n",
    "__или__\n",
    "\n",
    "Пусть задан граф $G = (V, E)$, где $V$ — множество вершин графа, $E$ — множество ребер графа. Предположим, что в начальный момент времени все вершины графа окрашены в белый цвет. Выполним следующие действия:\n",
    "\n",
    "1. Пройдём по всем вершинам $v\\in V$. \n",
    "    * Если вершина $v$ белая, выполним для неё $DFS(v)$.\n",
    "\n",
    "Процедура $DFS$ (параметр — вершина $u\\in V$)\n",
    "\n",
    "1. Перекрашиваем вершину $u$ в серый цвет. \n",
    "2. Для всякой вершины $w$, смежной с вершиной $u$ и окрашенной в белый цвет, рекурсивно выполняем процедуру $DFS(w)$.\n",
    "3. Перекрашиваем вершину $u$ в чёрный цвет.\n",
    "\n",
    "_Часто используют двухцветные метки — без серого, на 1-м шаге красят сразу в чёрный цвет._\n",
    "\n",
    "#### Pекурсивная реализация"
   ]
  },
  {
   "cell_type": "code",
   "execution_count": null,
   "metadata": {},
   "outputs": [],
   "source": [
    "def DFS(graph, start, visited=None):\n",
    "    if visited is None: # if this is the start vertex\n",
    "        visited = set()\n",
    "        print (\"DFS order:\", end=' ')\n",
    "        \n",
    "    !YOUR CODE HERE\n",
    "    # add start to visited \n",
    "    \n",
    "    print (start, end=' -> ')\n",
    "    \n",
    "    !YOUR CODE HERE\n",
    "    # for each edge (start, u) check if u has been visited. If not call DFS(u)"
   ]
  },
  {
   "cell_type": "code",
   "execution_count": null,
   "metadata": {},
   "outputs": [],
   "source": [
    "DFS(tree, 1)"
   ]
  },
  {
   "cell_type": "code",
   "execution_count": null,
   "metadata": {},
   "outputs": [],
   "source": [
    "draw_graph(tree, file_name='graph')"
   ]
  },
  {
   "cell_type": "markdown",
   "metadata": {},
   "source": [
    "### Применение\n",
    "\n",
    "Из названия этого метода обхода графа ясно, что в процессе поиска мы идем «вглубь» графа настолько, насколько возможно. Следуя алгоритму, мы последовательно обойдем все вершины графа, которые доступны из начальной вершины. Если ребро ведет в не пройдённую до этого момента вершину, то алгоритм запускается с нее. В случае если ребер, которые ведут в не рассмотренную вершину, больше нет, то происходит возврат назад. Пример ->\n",
    "\n",
    "<img src=\"https://cdn-images-1.medium.com/max/1600/1*yBXw4Q8rSMRqGYC-iZI0yg.gif\" width=\"650\"> \n",
    "\n",
    "Исходя из особенностей алгорима чаще всего DFS применяется в таких задачах, как поиск в графе компонент связности, циклов и др."
   ]
  },
  {
   "cell_type": "markdown",
   "metadata": {},
   "source": [
    "### BFS vs. DFS\n",
    "![](https://hamzic.files.wordpress.com/2016/12/fig1.gif?w=630)"
   ]
  },
  {
   "cell_type": "markdown",
   "metadata": {},
   "source": [
    "## \\[ИСТОЧНИКИ\\]\n",
    "1. https://www.geeksforgeeks.org/breadth-first-search-or-bfs-for-a-graph/\n",
    "2. https://koenig-media.raywenderlich.com\n",
    "3. https://medium.com/omarelgabrys-blog/path-finding-algorithms-f65a8902eb40\n",
    "4. https://neerc.ifmo.ru/wiki/index.php?title=Обход_в_ширину\n",
    "5. https://ru.wikipedia.org/wiki/Поиск_в_глубину"
   ]
  }
 ],
 "metadata": {
  "kernelspec": {
   "display_name": "Python 3",
   "language": "python",
   "name": "python3"
  },
  "language_info": {
   "codemirror_mode": {
    "name": "ipython",
    "version": 3
   },
   "file_extension": ".py",
   "mimetype": "text/x-python",
   "name": "python",
   "nbconvert_exporter": "python",
   "pygments_lexer": "ipython3",
   "version": "3.6.5"
  }
 },
 "nbformat": 4,
 "nbformat_minor": 2
}
